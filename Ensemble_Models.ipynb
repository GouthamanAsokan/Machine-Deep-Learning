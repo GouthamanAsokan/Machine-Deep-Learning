{
  "nbformat": 4,
  "nbformat_minor": 0,
  "metadata": {
    "colab": {
      "name": "Ensemble_Models.ipynb",
      "provenance": [],
      "collapsed_sections": []
    },
    "kernelspec": {
      "name": "python3",
      "display_name": "Python 3"
    }
  },
  "cells": [
    {
      "cell_type": "code",
      "metadata": {
        "id": "w1-ws8YkWrfT"
      },
      "source": [
        "#Max Voting\n",
        "from sklearn.ensemble import VotingClassifier\n",
        "model1 = LogisticRegression(random_state=1)\n",
        "model2 = tree.DecisionTreeClassifier(random_state=1)\n",
        "model = VotingClassifier(estimators=[('lr', model1), ('dt', model2)], voting='hard')\n",
        "model.fit(x_train,y_train)\n",
        "model.score(x_test,y_test)"
      ],
      "execution_count": null,
      "outputs": []
    },
    {
      "cell_type": "code",
      "metadata": {
        "id": "1K5c5PbFXBF0"
      },
      "source": [
        "#Averaging\n",
        "model1 = tree.DecisionTreeClassifier()\n",
        "model2 = KNeighborsClassifier()\n",
        "model3= LogisticRegression()\n",
        "\n",
        "model1.fit(x_train,y_train)\n",
        "model2.fit(x_train,y_train)\n",
        "model3.fit(x_train,y_train)\n",
        "\n",
        "pred1=model1.predict_proba(x_test)\n",
        "pred2=model2.predict_proba(x_test)\n",
        "pred3=model3.predict_proba(x_test)\n",
        "\n",
        "finalpred=(pred1+pred2+pred3)/3"
      ],
      "execution_count": null,
      "outputs": []
    },
    {
      "cell_type": "code",
      "metadata": {
        "id": "bq0QScNrXNEs"
      },
      "source": [
        "#Weighted Average\n",
        "model1 = tree.DecisionTreeClassifier()\n",
        "model2 = KNeighborsClassifier()\n",
        "model3= LogisticRegression()\n",
        "\n",
        "model1.fit(x_train,y_train)\n",
        "model2.fit(x_train,y_train)\n",
        "model3.fit(x_train,y_train)\n",
        "\n",
        "pred1=model1.predict_proba(x_test)\n",
        "pred2=model2.predict_proba(x_test)\n",
        "pred3=model3.predict_proba(x_test)\n",
        "\n",
        "finalpred=(pred1*0.3+pred2*0.3+pred3*0.4)"
      ],
      "execution_count": null,
      "outputs": []
    },
    {
      "cell_type": "code",
      "metadata": {
        "id": "xeqydiDWXe_6"
      },
      "source": [
        "#Stacking-n fold divide and predict on each fold\n",
        "#Blending-only one is kept as holdout\n",
        "#Bagging-uses the bootstrapping\n",
        "#Boosting-sequentail where errors are given higher weightage in sebsequent steps"
      ],
      "execution_count": null,
      "outputs": []
    },
    {
      "cell_type": "code",
      "metadata": {
        "id": "iEuD8iNBYjAH"
      },
      "source": [
        "#Bagging meta estimator uses all the features for split while random forest uses a set of random features\n",
        "#Adabosst-errors are given higher weightage in subsequent trees\n",
        "#Gradient boosting-combining weak learners to form a strong learner, find residuals with predict, make a model for these and combine with initial model\n",
        "#xgboost-regularized boosting\n",
        "#lightgbm-leaf wise approach that work on larger datasets\n",
        "#catboost-works better when there are a lot of categorical variables"
      ],
      "execution_count": null,
      "outputs": []
    }
  ]
}