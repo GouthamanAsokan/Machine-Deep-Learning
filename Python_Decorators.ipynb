{
  "nbformat": 4,
  "nbformat_minor": 0,
  "metadata": {
    "colab": {
      "provenance": []
    },
    "kernelspec": {
      "name": "python3",
      "display_name": "Python 3"
    },
    "language_info": {
      "name": "python"
    }
  },
  "cells": [
    {
      "cell_type": "code",
      "execution_count": 1,
      "metadata": {
        "colab": {
          "base_uri": "https://localhost:8080/"
        },
        "id": "28TyLc-YT9PW",
        "outputId": "e545b781-804b-4785-fa06-4d0e9e749092"
      },
      "outputs": [
        {
          "output_type": "stream",
          "name": "stdout",
          "text": [
            "HELLO\n",
            "HELLO\n"
          ]
        }
      ],
      "source": [
        "def shout(text):\n",
        "    return text.upper()\n",
        "\n",
        "print(shout('Hello'))\n",
        "\n",
        "yell = shout\n",
        "\n",
        "print(yell('Hello'))"
      ]
    },
    {
      "cell_type": "code",
      "source": [
        "def shout(text):\n",
        "    return text.upper()\n",
        "\n",
        "def whisper(text):\n",
        "    return text.lower()\n",
        "\n",
        "def greet(func):\n",
        "    # storing the function in a variable\n",
        "    greeting = func(\"\"\"Hi, I am created by a function passed as an argument.\"\"\")\n",
        "    print (greeting)\n",
        "\n",
        "greet(shout)\n",
        "greet(whisper)"
      ],
      "metadata": {
        "colab": {
          "base_uri": "https://localhost:8080/"
        },
        "id": "p1dbvhB6UQyV",
        "outputId": "e20b008e-d338-4a06-c786-75d08772629f"
      },
      "execution_count": 2,
      "outputs": [
        {
          "output_type": "stream",
          "name": "stdout",
          "text": [
            "HI, I AM CREATED BY A FUNCTION PASSED AS AN ARGUMENT.\n",
            "hi, i am created by a function passed as an argument.\n"
          ]
        }
      ]
    },
    {
      "cell_type": "code",
      "source": [
        "def create_adder(x):\n",
        "    def adder(y):\n",
        "        return x+y\n",
        "\n",
        "    return adder\n",
        "\n",
        "add_15 = create_adder(15)\n",
        "\n",
        "print(add_15(10))"
      ],
      "metadata": {
        "colab": {
          "base_uri": "https://localhost:8080/"
        },
        "id": "sqPeBCYcUeoR",
        "outputId": "dd03347e-16c3-477c-b996-580e97ca39a5"
      },
      "execution_count": 3,
      "outputs": [
        {
          "output_type": "stream",
          "name": "stdout",
          "text": [
            "25\n"
          ]
        }
      ]
    },
    {
      "cell_type": "code",
      "source": [
        "# defining a decorator\n",
        "def hello_decorator(func):\n",
        "\n",
        "    # inner1 is a Wrapper function in\n",
        "    # which the argument is called\n",
        "\n",
        "    # inner function can access the outer local\n",
        "    # functions like in this case \"func\"\n",
        "    def inner1():\n",
        "        print(\"Hello, this is before function execution\")\n",
        "\n",
        "        # calling the actual function now\n",
        "        # inside the wrapper function.\n",
        "        func()\n",
        "\n",
        "        print(\"This is after function execution\")\n",
        "\n",
        "    return inner1\n",
        "\n",
        "\n",
        "# defining a function, to be called inside wrapper\n",
        "def function_to_be_used():\n",
        "    print(\"This is inside the function !!\")\n",
        "\n",
        "\n",
        "# passing 'function_to_be_used' inside the\n",
        "# decorator to control its behaviour\n",
        "function_to_be_used_1 = hello_decorator(function_to_be_used)\n",
        "\n",
        "\n",
        "# calling the function\n",
        "function_to_be_used_1()"
      ],
      "metadata": {
        "colab": {
          "base_uri": "https://localhost:8080/"
        },
        "id": "8U4rqLObUvfa",
        "outputId": "a27b84fa-91d8-4c0b-8a6c-658c6fa46fbc"
      },
      "execution_count": 6,
      "outputs": [
        {
          "output_type": "stream",
          "name": "stdout",
          "text": [
            "Hello, this is before function execution\n",
            "This is inside the function !!\n",
            "This is after function execution\n"
          ]
        }
      ]
    },
    {
      "cell_type": "code",
      "source": [
        "# importing libraries\n",
        "import time\n",
        "import math\n",
        "\n",
        "# decorator to calculate duration\n",
        "# taken by any function.\n",
        "def calculate_time(func):\n",
        "\n",
        "    # added arguments inside the inner1,\n",
        "    # if function takes any arguments,\n",
        "    # can be added like this.\n",
        "    def inner1(*args, **kwargs):\n",
        "\n",
        "        # storing time before function execution\n",
        "        begin = time.time()\n",
        "\n",
        "        func(*args, **kwargs)\n",
        "\n",
        "        # storing time after function execution\n",
        "        end = time.time()\n",
        "        print(\"Total time taken in : \", func.__name__, end - begin)\n",
        "\n",
        "    return inner1\n",
        "\n",
        "\n",
        "\n",
        "# this can be added to any function present,\n",
        "# in this case to calculate a factorial\n",
        "@calculate_time\n",
        "def factorial(num):\n",
        "\n",
        "    # sleep 2 seconds because it takes very less time\n",
        "    # so that you can see the actual difference\n",
        "    time.sleep(2)\n",
        "    print(math.factorial(num))\n",
        "\n",
        "# calling the function.\n",
        "factorial(10)"
      ],
      "metadata": {
        "colab": {
          "base_uri": "https://localhost:8080/"
        },
        "id": "vgYxDRDoWooE",
        "outputId": "562d4b6e-21e7-4a4c-eaaa-6d61b3444239"
      },
      "execution_count": 8,
      "outputs": [
        {
          "output_type": "stream",
          "name": "stdout",
          "text": [
            "3628800\n",
            "Total time taken in :  factorial 2.0033438205718994\n"
          ]
        }
      ]
    },
    {
      "cell_type": "code",
      "source": [
        "def hello_decorator(func):\n",
        "    def inner1(*args, **kwargs):\n",
        "\n",
        "        print(\"before Execution\")\n",
        "\n",
        "        # getting the returned value\n",
        "        returned_value = func(*args, **kwargs)\n",
        "        print(\"after Execution\")\n",
        "\n",
        "        # returning the value to the original frame\n",
        "        return returned_value\n",
        "\n",
        "    return inner1\n",
        "\n",
        "\n",
        "# adding decorator to the function\n",
        "@hello_decorator\n",
        "def sum_two_numbers(a, b):\n",
        "    print(\"Inside the function\")\n",
        "    return a + b\n",
        "\n",
        "a, b = 1, 2\n",
        "\n",
        "# getting the value through return of the function\n",
        "print(\"Sum =\", sum_two_numbers(a, b))"
      ],
      "metadata": {
        "colab": {
          "base_uri": "https://localhost:8080/"
        },
        "id": "WRskDMtDW5Pf",
        "outputId": "4a0eb7d1-735f-41cc-c330-1a922c1aa19d"
      },
      "execution_count": 9,
      "outputs": [
        {
          "output_type": "stream",
          "name": "stdout",
          "text": [
            "before Execution\n",
            "Inside the function\n",
            "after Execution\n",
            "Sum = 3\n"
          ]
        }
      ]
    },
    {
      "cell_type": "code",
      "source": [
        "# code for testing decorator chaining\n",
        "def decor1(func):\n",
        "    def inner():\n",
        "        x = func()\n",
        "        return x * x\n",
        "    return inner\n",
        "\n",
        "def decor(func):\n",
        "    def inner():\n",
        "        x = func()\n",
        "        return 2 * x\n",
        "    return inner\n",
        "\n",
        "@decor1\n",
        "@decor\n",
        "def num():\n",
        "    return 10\n",
        "\n",
        "@decor\n",
        "@decor1\n",
        "def num2():\n",
        "    return 10\n",
        "\n",
        "print(num())\n",
        "print(num2())\n"
      ],
      "metadata": {
        "colab": {
          "base_uri": "https://localhost:8080/"
        },
        "id": "3mI0P3vzW6x5",
        "outputId": "18a49684-50e9-4f21-ded9-355af8044e3d"
      },
      "execution_count": 10,
      "outputs": [
        {
          "output_type": "stream",
          "name": "stdout",
          "text": [
            "400\n",
            "200\n"
          ]
        }
      ]
    }
  ]
}