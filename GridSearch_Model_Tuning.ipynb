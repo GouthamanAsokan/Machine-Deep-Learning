{
  "nbformat": 4,
  "nbformat_minor": 0,
  "metadata": {
    "colab": {
      "name": "GridSearch_Model_Tuning.ipynb",
      "provenance": []
    },
    "kernelspec": {
      "name": "python3",
      "display_name": "Python 3"
    }
  },
  "cells": [
    {
      "cell_type": "code",
      "metadata": {
        "colab": {
          "base_uri": "https://localhost:8080/"
        },
        "id": "NARo_HTCcNML",
        "outputId": "5e39245b-160b-49dd-f80d-674eb90cfab7"
      },
      "source": [
        "parameters ={'max_depth': [10, 20, 30, 40, 50, 60, 70, 80, 90, 100],\n",
        "     'criterion' : ['gini', 'entropy'],\n",
        "     'max_features': [0.3,0.5,0.7,0.9],\n",
        "     'min_samples_leaf': [3,5,7,10,15],\n",
        "     'min_samples_split': [2,5,10],\n",
        "     'n_estimators': [50,100,200,400,600]}\n",
        "from sklearn.model_selection import ParameterGrid\n",
        "param_size = ParameterGrid(parameters)\n",
        "len(param_size)"
      ],
      "execution_count": 1,
      "outputs": [
        {
          "output_type": "execute_result",
          "data": {
            "text/plain": [
              "6000"
            ]
          },
          "metadata": {
            "tags": []
          },
          "execution_count": 1
        }
      ]
    },
    {
      "cell_type": "code",
      "metadata": {
        "id": "1Izn_jwgdczI"
      },
      "source": [
        "from sklearn.model_selection import GridSearchCV\n",
        "grid_search = RandomForestClassifier()\n",
        "grid_search = GridSearchCV(\n",
        "    grid_search, \n",
        "    parameters, \n",
        "    cv=5,\n",
        "    scoring='accuracy',n_jobs=-1)\n",
        "\n",
        "grid_result= grid_search.fit(X_train, y_train)\n",
        "print('Best Params: ', grid_result.best_params_)\n",
        "print('Best Score: ', grid_result.best_score_)"
      ],
      "execution_count": null,
      "outputs": []
    }
  ]
}