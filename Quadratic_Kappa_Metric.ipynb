{
  "nbformat": 4,
  "nbformat_minor": 0,
  "metadata": {
    "colab": {
      "name": "Quadratic_Kappa_Metric.ipynb",
      "provenance": [],
      "collapsed_sections": []
    },
    "kernelspec": {
      "name": "python3",
      "display_name": "Python 3"
    }
  },
  "cells": [
    {
      "cell_type": "code",
      "metadata": {
        "id": "4UcyCP1aUvna",
        "colab_type": "code",
        "colab": {}
      },
      "source": [
        "#amount of similarity between predictions and actuals\n",
        "#least possible score is -1 which is given when the predictions are furthest away from actuals\n",
        "#score of 0.6+ is considered to be a really good score\n",
        "import numpy as np\n",
        "import pandas as pd\n",
        "from sklearn.metrics import confusion_matrix"
      ],
      "execution_count": 0,
      "outputs": []
    },
    {
      "cell_type": "code",
      "metadata": {
        "id": "4u8lcopaVBtb",
        "colab_type": "code",
        "colab": {}
      },
      "source": [
        "actuals = np.array([4, 4, 3, 4, 4, 4, 1, 1, 2, 1])\n",
        "preds   = np.array([0, 2, 1, 0, 0, 0, 1, 1, 2, 1])"
      ],
      "execution_count": 0,
      "outputs": []
    },
    {
      "cell_type": "code",
      "metadata": {
        "id": "SgFdfzXKVFCD",
        "colab_type": "code",
        "colab": {
          "base_uri": "https://localhost:8080/",
          "height": 34
        },
        "outputId": "f531fffc-d80d-4b64-8840-a85f578cddc1"
      },
      "source": [
        "actuals.shape"
      ],
      "execution_count": 3,
      "outputs": [
        {
          "output_type": "execute_result",
          "data": {
            "text/plain": [
              "(10,)"
            ]
          },
          "metadata": {
            "tags": []
          },
          "execution_count": 3
        }
      ]
    },
    {
      "cell_type": "code",
      "metadata": {
        "id": "Xvbh8tPdVIiH",
        "colab_type": "code",
        "colab": {
          "base_uri": "https://localhost:8080/",
          "height": 102
        },
        "outputId": "a5102050-d4da-4968-c386-7193d097427b"
      },
      "source": [
        "confusion_matrix(actuals, preds)"
      ],
      "execution_count": 4,
      "outputs": [
        {
          "output_type": "execute_result",
          "data": {
            "text/plain": [
              "array([[0, 0, 0, 0, 0],\n",
              "       [0, 3, 0, 0, 0],\n",
              "       [0, 0, 1, 0, 0],\n",
              "       [0, 1, 0, 0, 0],\n",
              "       [4, 0, 1, 0, 0]])"
            ]
          },
          "metadata": {
            "tags": []
          },
          "execution_count": 4
        }
      ]
    },
    {
      "cell_type": "code",
      "metadata": {
        "id": "oBbedhllVOVR",
        "colab_type": "code",
        "colab": {
          "base_uri": "https://localhost:8080/",
          "height": 102
        },
        "outputId": "8f7eb458-6f62-42bb-9f49-f8afac3e5aec"
      },
      "source": [
        "w = np.zeros((5,5)); w"
      ],
      "execution_count": 5,
      "outputs": [
        {
          "output_type": "execute_result",
          "data": {
            "text/plain": [
              "array([[0., 0., 0., 0., 0.],\n",
              "       [0., 0., 0., 0., 0.],\n",
              "       [0., 0., 0., 0., 0.],\n",
              "       [0., 0., 0., 0., 0.],\n",
              "       [0., 0., 0., 0., 0.]])"
            ]
          },
          "metadata": {
            "tags": []
          },
          "execution_count": 5
        }
      ]
    },
    {
      "cell_type": "code",
      "metadata": {
        "id": "7BgfL7U6VWZq",
        "colab_type": "code",
        "colab": {}
      },
      "source": [
        "for i in range(len(w)):\n",
        "    for j in range(len(w)):\n",
        "        w[i][j] = float(((i-j)**2)/16) #as per formula, for the competition, N=5"
      ],
      "execution_count": 0,
      "outputs": []
    },
    {
      "cell_type": "code",
      "metadata": {
        "id": "LAAcQWQSVkye",
        "colab_type": "code",
        "colab": {
          "base_uri": "https://localhost:8080/",
          "height": 102
        },
        "outputId": "7d249a78-50b8-4a9a-cb91-d8519ffb6634"
      },
      "source": [
        "w"
      ],
      "execution_count": 7,
      "outputs": [
        {
          "output_type": "execute_result",
          "data": {
            "text/plain": [
              "array([[0.    , 0.0625, 0.25  , 0.5625, 1.    ],\n",
              "       [0.0625, 0.    , 0.0625, 0.25  , 0.5625],\n",
              "       [0.25  , 0.0625, 0.    , 0.0625, 0.25  ],\n",
              "       [0.5625, 0.25  , 0.0625, 0.    , 0.0625],\n",
              "       [1.    , 0.5625, 0.25  , 0.0625, 0.    ]])"
            ]
          },
          "metadata": {
            "tags": []
          },
          "execution_count": 7
        }
      ]
    },
    {
      "cell_type": "code",
      "metadata": {
        "id": "HzEtV3D1VzIz",
        "colab_type": "code",
        "colab": {}
      },
      "source": [
        "N=5\n",
        "act_hist=np.zeros([N])\n",
        "for item in actuals: \n",
        "    act_hist[item]+=1"
      ],
      "execution_count": 0,
      "outputs": []
    },
    {
      "cell_type": "code",
      "metadata": {
        "id": "-jSpmBctV0-n",
        "colab_type": "code",
        "colab": {}
      },
      "source": [
        "pred_hist=np.zeros([N])\n",
        "for item in preds: \n",
        "    pred_hist[item]+=1"
      ],
      "execution_count": 0,
      "outputs": []
    },
    {
      "cell_type": "code",
      "metadata": {
        "id": "wFpQ38-cV7wh",
        "colab_type": "code",
        "colab": {
          "base_uri": "https://localhost:8080/",
          "height": 34
        },
        "outputId": "a436061f-c890-477f-da05-ffc8ef9f1ca5"
      },
      "source": [
        "print(f'Actuals value counts:{act_hist}, Prediction value counts:{pred_hist}')"
      ],
      "execution_count": 10,
      "outputs": [
        {
          "output_type": "stream",
          "text": [
            "Actuals value counts:[0. 3. 1. 1. 5.], Prediction value counts:[4. 4. 2. 0. 0.]\n"
          ],
          "name": "stdout"
        }
      ]
    },
    {
      "cell_type": "code",
      "metadata": {
        "id": "GpKMMM4DWQ3l",
        "colab_type": "code",
        "colab": {
          "base_uri": "https://localhost:8080/",
          "height": 102
        },
        "outputId": "cd88b859-740c-4e79-e630-47d06191b037"
      },
      "source": [
        "E = np.outer(act_hist, pred_hist); E"
      ],
      "execution_count": 11,
      "outputs": [
        {
          "output_type": "execute_result",
          "data": {
            "text/plain": [
              "array([[ 0.,  0.,  0.,  0.,  0.],\n",
              "       [12., 12.,  6.,  0.,  0.],\n",
              "       [ 4.,  4.,  2.,  0.,  0.],\n",
              "       [ 4.,  4.,  2.,  0.,  0.],\n",
              "       [20., 20., 10.,  0.,  0.]])"
            ]
          },
          "metadata": {
            "tags": []
          },
          "execution_count": 11
        }
      ]
    },
    {
      "cell_type": "code",
      "metadata": {
        "id": "joOgiOA8WbNA",
        "colab_type": "code",
        "colab": {
          "base_uri": "https://localhost:8080/",
          "height": 34
        },
        "outputId": "357ecc85-2edd-4ab3-b9f0-176d4fc5fa6f"
      },
      "source": [
        "E = E/E.sum(); E.sum()"
      ],
      "execution_count": 12,
      "outputs": [
        {
          "output_type": "execute_result",
          "data": {
            "text/plain": [
              "1.0"
            ]
          },
          "metadata": {
            "tags": []
          },
          "execution_count": 12
        }
      ]
    },
    {
      "cell_type": "code",
      "metadata": {
        "id": "Dyx1mnFPWkCm",
        "colab_type": "code",
        "colab": {
          "base_uri": "https://localhost:8080/",
          "height": 34
        },
        "outputId": "b112bcef-417a-4308-b0b0-0fd99aa504cd"
      },
      "source": [
        "O = confusion_matrix(actuals, preds)\n",
        "O = O/O.sum(); O.sum()"
      ],
      "execution_count": 14,
      "outputs": [
        {
          "output_type": "execute_result",
          "data": {
            "text/plain": [
              "1.0"
            ]
          },
          "metadata": {
            "tags": []
          },
          "execution_count": 14
        }
      ]
    },
    {
      "cell_type": "code",
      "metadata": {
        "id": "7xGhnzEXWwwR",
        "colab_type": "code",
        "colab": {
          "base_uri": "https://localhost:8080/",
          "height": 102
        },
        "outputId": "a60d0a9c-4180-4c07-f07a-743ebe213c7c"
      },
      "source": [
        "E"
      ],
      "execution_count": 15,
      "outputs": [
        {
          "output_type": "execute_result",
          "data": {
            "text/plain": [
              "array([[0.  , 0.  , 0.  , 0.  , 0.  ],\n",
              "       [0.12, 0.12, 0.06, 0.  , 0.  ],\n",
              "       [0.04, 0.04, 0.02, 0.  , 0.  ],\n",
              "       [0.04, 0.04, 0.02, 0.  , 0.  ],\n",
              "       [0.2 , 0.2 , 0.1 , 0.  , 0.  ]])"
            ]
          },
          "metadata": {
            "tags": []
          },
          "execution_count": 15
        }
      ]
    },
    {
      "cell_type": "code",
      "metadata": {
        "id": "IOu_H2RsWztu",
        "colab_type": "code",
        "colab": {
          "base_uri": "https://localhost:8080/",
          "height": 102
        },
        "outputId": "3e447a4e-97b8-4bd4-9620-b2b68df26eaf"
      },
      "source": [
        "O"
      ],
      "execution_count": 16,
      "outputs": [
        {
          "output_type": "execute_result",
          "data": {
            "text/plain": [
              "array([[0. , 0. , 0. , 0. , 0. ],\n",
              "       [0. , 0.3, 0. , 0. , 0. ],\n",
              "       [0. , 0. , 0.1, 0. , 0. ],\n",
              "       [0. , 0.1, 0. , 0. , 0. ],\n",
              "       [0.4, 0. , 0.1, 0. , 0. ]])"
            ]
          },
          "metadata": {
            "tags": []
          },
          "execution_count": 16
        }
      ]
    },
    {
      "cell_type": "code",
      "metadata": {
        "id": "Eju9d7dAW7Ml",
        "colab_type": "code",
        "colab": {
          "base_uri": "https://localhost:8080/",
          "height": 34
        },
        "outputId": "0cf428d0-eb2a-4794-c9f3-3a84f6182826"
      },
      "source": [
        "num=0\n",
        "den=0\n",
        "for i in range(len(w)):\n",
        "    for j in range(len(w)):\n",
        "        num+=w[i][j]*O[i][j]\n",
        "        den+=w[i][j]*E[i][j]\n",
        " \n",
        "weighted_kappa = (1 - (num/den)); weighted_kappa"
      ],
      "execution_count": 17,
      "outputs": [
        {
          "output_type": "execute_result",
          "data": {
            "text/plain": [
              "-0.139240506329114"
            ]
          },
          "metadata": {
            "tags": []
          },
          "execution_count": 17
        }
      ]
    }
  ]
}