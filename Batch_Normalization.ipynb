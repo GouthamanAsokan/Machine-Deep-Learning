{
  "nbformat": 4,
  "nbformat_minor": 0,
  "metadata": {
    "colab": {
      "provenance": [],
      "gpuType": "T4"
    },
    "kernelspec": {
      "name": "python3",
      "display_name": "Python 3"
    },
    "language_info": {
      "name": "python"
    },
    "accelerator": "GPU"
  },
  "cells": [
    {
      "cell_type": "code",
      "execution_count": 1,
      "metadata": {
        "id": "W4DsbErbQR6e"
      },
      "outputs": [],
      "source": [
        "from keras.datasets import mnist\n",
        "import tensorflow\n",
        "from tensorflow.keras.models import Sequential\n",
        "from tensorflow.keras.layers import Dense, Flatten\n",
        "from tensorflow.keras.layers import Conv2D, MaxPooling2D\n",
        "from tensorflow.keras.layers import BatchNormalization"
      ]
    },
    {
      "cell_type": "code",
      "source": [
        "# Model configuration\n",
        "batch_size = 250\n",
        "no_epochs = 25\n",
        "no_classes = 10\n",
        "validation_split = 0.2\n",
        "verbosity = 1"
      ],
      "metadata": {
        "id": "cHck3HGoQeeP"
      },
      "execution_count": 2,
      "outputs": []
    },
    {
      "cell_type": "code",
      "source": [
        "# Load MNIST dataset\n",
        "(input_train, target_train), (input_test, target_test) =mnist.load_data()\n",
        "\n",
        "# Shape of the input sets\n",
        "input_train_shape = input_train.shape\n",
        "input_test_shape = input_test.shape\n",
        "\n",
        "# Keras layer input shape\n",
        "input_shape = (input_train_shape[1], input_train_shape[2], 1)\n",
        "\n",
        "# Reshape the training data to include channels\n",
        "input_train = input_train.reshape(input_train_shape[0], input_train_shape[1], input_train_shape[2], 1)\n",
        "\n",
        "input_test = input_test.reshape(input_test_shape[0], input_test_shape[1], input_test_shape[2], 1)\n",
        "\n",
        "# Parse numbers as floats\n",
        "input_train = input_train.astype('float32')\n",
        "input_test = input_test.astype('float32')\n",
        "\n",
        "# Normalize input data\n",
        "input_train = input_train / 255\n",
        "input_test = input_test / 255"
      ],
      "metadata": {
        "colab": {
          "base_uri": "https://localhost:8080/"
        },
        "id": "Ink-_TonQl9l",
        "outputId": "78b1aa5c-6445-4e69-918c-0eb6b4f868a0"
      },
      "execution_count": 3,
      "outputs": [
        {
          "output_type": "stream",
          "name": "stdout",
          "text": [
            "Downloading data from https://storage.googleapis.com/tensorflow/tf-keras-datasets/mnist.npz\n",
            "11490434/11490434 [==============================] - 0s 0us/step\n"
          ]
        }
      ]
    },
    {
      "cell_type": "code",
      "source": [
        "model = Sequential()\n",
        "model.add(Conv2D(32, kernel_size=(3, 3), activation='relu', input_shape=input_shape))\n",
        "model.add(MaxPooling2D(pool_size=(2, 2)))\n",
        "model.add(Conv2D(64, kernel_size=(3, 3), activation='relu'))\n",
        "model.add(MaxPooling2D(pool_size=(2, 2)))\n",
        "model.add(Flatten())\n",
        "model.add(Dense(256, activation='relu'))\n",
        "model.add(Dense(no_classes, activation='softmax'))\n",
        "\n",
        "# Compile the model\n",
        "model.compile(loss=tensorflow.keras.losses.sparse_categorical_crossentropy,\n",
        "              optimizer=tensorflow.keras.optimizers.Adam(),\n",
        "              metrics=['accuracy'])\n",
        "\n",
        "# Fit data to model\n",
        "history = model.fit(input_train, target_train,\n",
        "            batch_size=batch_size,\n",
        "            epochs=no_epochs,\n",
        "            verbose=verbosity,\n",
        "            validation_split=validation_split)\n",
        "\n",
        "# Generate generalization metric  s\n",
        "score = model.evaluate(input_test, target_test, verbose=0)\n",
        "print(f'Test loss: {score[0]} / Test accuracy: {score[1]}')"
      ],
      "metadata": {
        "colab": {
          "base_uri": "https://localhost:8080/"
        },
        "id": "5jkgaKxGQqk3",
        "outputId": "94996f99-b4fd-4bef-aeab-c32684e492b7"
      },
      "execution_count": 8,
      "outputs": [
        {
          "output_type": "stream",
          "name": "stdout",
          "text": [
            "Epoch 1/25\n",
            "192/192 [==============================] - 3s 7ms/step - loss: 0.2963 - accuracy: 0.9170 - val_loss: 0.0822 - val_accuracy: 0.9760\n",
            "Epoch 2/25\n",
            "192/192 [==============================] - 1s 6ms/step - loss: 0.0716 - accuracy: 0.9781 - val_loss: 0.0578 - val_accuracy: 0.9833\n",
            "Epoch 3/25\n",
            "192/192 [==============================] - 1s 6ms/step - loss: 0.0477 - accuracy: 0.9856 - val_loss: 0.0498 - val_accuracy: 0.9859\n",
            "Epoch 4/25\n",
            "192/192 [==============================] - 1s 6ms/step - loss: 0.0366 - accuracy: 0.9886 - val_loss: 0.0445 - val_accuracy: 0.9863\n",
            "Epoch 5/25\n",
            "192/192 [==============================] - 1s 6ms/step - loss: 0.0297 - accuracy: 0.9906 - val_loss: 0.0384 - val_accuracy: 0.9901\n",
            "Epoch 6/25\n",
            "192/192 [==============================] - 1s 6ms/step - loss: 0.0230 - accuracy: 0.9925 - val_loss: 0.0411 - val_accuracy: 0.9887\n",
            "Epoch 7/25\n",
            "192/192 [==============================] - 1s 6ms/step - loss: 0.0183 - accuracy: 0.9944 - val_loss: 0.0431 - val_accuracy: 0.9879\n",
            "Epoch 8/25\n",
            "192/192 [==============================] - 1s 6ms/step - loss: 0.0139 - accuracy: 0.9956 - val_loss: 0.0405 - val_accuracy: 0.9888\n",
            "Epoch 9/25\n",
            "192/192 [==============================] - 1s 7ms/step - loss: 0.0125 - accuracy: 0.9959 - val_loss: 0.0388 - val_accuracy: 0.9891\n",
            "Epoch 10/25\n",
            "192/192 [==============================] - 1s 6ms/step - loss: 0.0112 - accuracy: 0.9965 - val_loss: 0.0418 - val_accuracy: 0.9891\n",
            "Epoch 11/25\n",
            "192/192 [==============================] - 1s 6ms/step - loss: 0.0070 - accuracy: 0.9980 - val_loss: 0.0439 - val_accuracy: 0.9875\n",
            "Epoch 12/25\n",
            "192/192 [==============================] - 1s 6ms/step - loss: 0.0062 - accuracy: 0.9981 - val_loss: 0.0475 - val_accuracy: 0.9877\n",
            "Epoch 13/25\n",
            "192/192 [==============================] - 1s 6ms/step - loss: 0.0073 - accuracy: 0.9975 - val_loss: 0.0382 - val_accuracy: 0.9893\n",
            "Epoch 14/25\n",
            "192/192 [==============================] - 1s 6ms/step - loss: 0.0053 - accuracy: 0.9983 - val_loss: 0.0424 - val_accuracy: 0.9902\n",
            "Epoch 15/25\n",
            "192/192 [==============================] - 1s 6ms/step - loss: 0.0047 - accuracy: 0.9985 - val_loss: 0.0461 - val_accuracy: 0.9897\n",
            "Epoch 16/25\n",
            "192/192 [==============================] - 1s 6ms/step - loss: 0.0057 - accuracy: 0.9981 - val_loss: 0.0511 - val_accuracy: 0.9887\n",
            "Epoch 17/25\n",
            "192/192 [==============================] - 1s 6ms/step - loss: 0.0055 - accuracy: 0.9980 - val_loss: 0.0446 - val_accuracy: 0.9904\n",
            "Epoch 18/25\n",
            "192/192 [==============================] - 1s 6ms/step - loss: 0.0026 - accuracy: 0.9992 - val_loss: 0.0467 - val_accuracy: 0.9904\n",
            "Epoch 19/25\n",
            "192/192 [==============================] - 1s 7ms/step - loss: 0.0011 - accuracy: 0.9997 - val_loss: 0.0486 - val_accuracy: 0.9904\n",
            "Epoch 20/25\n",
            "192/192 [==============================] - 1s 7ms/step - loss: 7.8490e-04 - accuracy: 0.9998 - val_loss: 0.0493 - val_accuracy: 0.9898\n",
            "Epoch 21/25\n",
            "192/192 [==============================] - 1s 6ms/step - loss: 9.7544e-04 - accuracy: 0.9997 - val_loss: 0.0482 - val_accuracy: 0.9908\n",
            "Epoch 22/25\n",
            "192/192 [==============================] - 1s 6ms/step - loss: 0.0066 - accuracy: 0.9978 - val_loss: 0.0619 - val_accuracy: 0.9878\n",
            "Epoch 23/25\n",
            "192/192 [==============================] - 1s 6ms/step - loss: 0.0040 - accuracy: 0.9985 - val_loss: 0.0534 - val_accuracy: 0.9908\n",
            "Epoch 24/25\n",
            "192/192 [==============================] - 1s 6ms/step - loss: 0.0031 - accuracy: 0.9990 - val_loss: 0.0544 - val_accuracy: 0.9904\n",
            "Epoch 25/25\n",
            "192/192 [==============================] - 1s 6ms/step - loss: 0.0031 - accuracy: 0.9991 - val_loss: 0.0489 - val_accuracy: 0.9907\n",
            "Test loss: 0.03818866237998009 / Test accuracy: 0.9907000064849854\n"
          ]
        }
      ]
    },
    {
      "cell_type": "code",
      "source": [
        "import matplotlib.pyplot as plt\n",
        "plt.plot(history.history['accuracy'])\n",
        "plt.plot(history.history['val_accuracy'])\n",
        "plt.title('model accuracy')\n",
        "plt.ylabel('accuracy')\n",
        "plt.xlabel('epoch')\n",
        "plt.legend(['train', 'test'], loc='lower right')\n",
        "plt.show()"
      ],
      "metadata": {
        "colab": {
          "base_uri": "https://localhost:8080/",
          "height": 472
        },
        "id": "Szg77tmQRuc1",
        "outputId": "b96ff795-f703-4d01-c9c2-236efaa5627b"
      },
      "execution_count": 9,
      "outputs": [
        {
          "output_type": "display_data",
          "data": {
            "text/plain": [
              "<Figure size 640x480 with 1 Axes>"
            ],
            "image/png": "[encoded data removed]"
          },
          "metadata": {}
        }
      ]
    },
    {
      "cell_type": "code",
      "source": [
        "model = Sequential()\n",
        "model.add(Conv2D(32, kernel_size=(3, 3), activation='relu', input_shape=input_shape))\n",
        "model.add(BatchNormalization())\n",
        "model.add(MaxPooling2D(pool_size=(2, 2)))\n",
        "model.add(BatchNormalization())\n",
        "model.add(Conv2D(64, kernel_size=(3, 3), activation='relu'))\n",
        "model.add(BatchNormalization())\n",
        "model.add(MaxPooling2D(pool_size=(2, 2)))\n",
        "model.add(BatchNormalization())\n",
        "model.add(Flatten())\n",
        "model.add(Dense(256, activation='relu'))\n",
        "model.add(BatchNormalization())\n",
        "model.add(Dense(no_classes, activation='softmax'))\n"
      ],
      "metadata": {
        "id": "k96Zjh3JQ-5a"
      },
      "execution_count": 5,
      "outputs": []
    },
    {
      "cell_type": "code",
      "source": [
        "# Compile the model\n",
        "model.compile(loss=tensorflow.keras.losses.sparse_categorical_crossentropy,\n",
        "              optimizer=tensorflow.keras.optimizers.Adam(),\n",
        "              metrics=['accuracy'])\n",
        "\n",
        "# Fit data to model\n",
        "history = model.fit(input_train, target_train,\n",
        "            batch_size=batch_size,\n",
        "            epochs=no_epochs,\n",
        "            verbose=verbosity,\n",
        "            validation_split=validation_split)\n",
        "\n",
        "# Generate generalization metric  s\n",
        "score = model.evaluate(input_test, target_test, verbose=0)\n",
        "print(f'Test loss: {score[0]} / Test accuracy: {score[1]}')"
      ],
      "metadata": {
        "colab": {
          "base_uri": "https://localhost:8080/"
        },
        "id": "1NnuCDs0Q_MB",
        "outputId": "69d20b74-e3c8-43b5-9df5-ddb60999420a"
      },
      "execution_count": 6,
      "outputs": [
        {
          "output_type": "stream",
          "name": "stdout",
          "text": [
            "Epoch 1/25\n",
            "192/192 [==============================] - 5s 10ms/step - loss: 0.1144 - accuracy: 0.9647 - val_loss: 8.1108 - val_accuracy: 0.1060\n",
            "Epoch 2/25\n",
            "192/192 [==============================] - 2s 8ms/step - loss: 0.0288 - accuracy: 0.9917 - val_loss: 4.5714 - val_accuracy: 0.1904\n",
            "Epoch 3/25\n",
            "192/192 [==============================] - 1s 8ms/step - loss: 0.0139 - accuracy: 0.9963 - val_loss: 0.1883 - val_accuracy: 0.9398\n",
            "Epoch 4/25\n",
            "192/192 [==============================] - 1s 8ms/step - loss: 0.0071 - accuracy: 0.9984 - val_loss: 0.0365 - val_accuracy: 0.9889\n",
            "Epoch 5/25\n",
            "192/192 [==============================] - 2s 10ms/step - loss: 0.0038 - accuracy: 0.9993 - val_loss: 0.0301 - val_accuracy: 0.9907\n",
            "Epoch 6/25\n",
            "192/192 [==============================] - 2s 9ms/step - loss: 0.0018 - accuracy: 0.9998 - val_loss: 0.0301 - val_accuracy: 0.9906\n",
            "Epoch 7/25\n",
            "192/192 [==============================] - 2s 8ms/step - loss: 0.0010 - accuracy: 1.0000 - val_loss: 0.0297 - val_accuracy: 0.9908\n",
            "Epoch 8/25\n",
            "192/192 [==============================] - 1s 8ms/step - loss: 0.0011 - accuracy: 0.9998 - val_loss: 0.0309 - val_accuracy: 0.9910\n",
            "Epoch 9/25\n",
            "192/192 [==============================] - 1s 8ms/step - loss: 5.1228e-04 - accuracy: 1.0000 - val_loss: 0.0294 - val_accuracy: 0.9909\n",
            "Epoch 10/25\n",
            "192/192 [==============================] - 2s 8ms/step - loss: 2.6207e-04 - accuracy: 1.0000 - val_loss: 0.0288 - val_accuracy: 0.9919\n",
            "Epoch 11/25\n",
            "192/192 [==============================] - 2s 8ms/step - loss: 1.7684e-04 - accuracy: 1.0000 - val_loss: 0.0285 - val_accuracy: 0.9917\n",
            "Epoch 12/25\n",
            "192/192 [==============================] - 2s 8ms/step - loss: 1.4694e-04 - accuracy: 1.0000 - val_loss: 0.0288 - val_accuracy: 0.9919\n",
            "Epoch 13/25\n",
            "192/192 [==============================] - 2s 10ms/step - loss: 1.2403e-04 - accuracy: 1.0000 - val_loss: 0.0285 - val_accuracy: 0.9918\n",
            "Epoch 14/25\n",
            "192/192 [==============================] - 2s 8ms/step - loss: 1.0669e-04 - accuracy: 1.0000 - val_loss: 0.0294 - val_accuracy: 0.9920\n",
            "Epoch 15/25\n",
            "192/192 [==============================] - 1s 8ms/step - loss: 8.8118e-05 - accuracy: 1.0000 - val_loss: 0.0294 - val_accuracy: 0.9925\n",
            "Epoch 16/25\n",
            "192/192 [==============================] - 2s 8ms/step - loss: 7.7266e-05 - accuracy: 1.0000 - val_loss: 0.0292 - val_accuracy: 0.9923\n",
            "Epoch 17/25\n",
            "192/192 [==============================] - 2s 8ms/step - loss: 6.8315e-05 - accuracy: 1.0000 - val_loss: 0.0293 - val_accuracy: 0.9921\n",
            "Epoch 18/25\n",
            "192/192 [==============================] - 2s 8ms/step - loss: 5.6018e-05 - accuracy: 1.0000 - val_loss: 0.0297 - val_accuracy: 0.9921\n",
            "Epoch 19/25\n",
            "192/192 [==============================] - 1s 8ms/step - loss: 5.0264e-05 - accuracy: 1.0000 - val_loss: 0.0297 - val_accuracy: 0.9923\n",
            "Epoch 20/25\n",
            "192/192 [==============================] - 2s 8ms/step - loss: 4.4355e-05 - accuracy: 1.0000 - val_loss: 0.0300 - val_accuracy: 0.9923\n",
            "Epoch 21/25\n",
            "192/192 [==============================] - 2s 9ms/step - loss: 3.8037e-05 - accuracy: 1.0000 - val_loss: 0.0301 - val_accuracy: 0.9926\n",
            "Epoch 22/25\n",
            "192/192 [==============================] - 2s 8ms/step - loss: 3.2499e-05 - accuracy: 1.0000 - val_loss: 0.0300 - val_accuracy: 0.9926\n",
            "Epoch 23/25\n",
            "192/192 [==============================] - 2s 10ms/step - loss: 3.0332e-05 - accuracy: 1.0000 - val_loss: 0.0304 - val_accuracy: 0.9922\n",
            "Epoch 24/25\n",
            "192/192 [==============================] - 2s 12ms/step - loss: 2.7616e-05 - accuracy: 1.0000 - val_loss: 0.0305 - val_accuracy: 0.9922\n",
            "Epoch 25/25\n",
            "192/192 [==============================] - 2s 12ms/step - loss: 2.5105e-05 - accuracy: 1.0000 - val_loss: 0.0302 - val_accuracy: 0.9926\n",
            "Test loss: 0.03386455401778221 / Test accuracy: 0.9925000071525574\n"
          ]
        }
      ]
    },
    {
      "cell_type": "code",
      "source": [
        "import matplotlib.pyplot as plt\n",
        "plt.plot(history.history['accuracy'])\n",
        "plt.plot(history.history['val_accuracy'])\n",
        "plt.title('model accuracy')\n",
        "plt.ylabel('accuracy')\n",
        "plt.xlabel('epoch')\n",
        "plt.legend(['train', 'test'], loc='lower right')\n",
        "plt.show()"
      ],
      "metadata": {
        "colab": {
          "base_uri": "https://localhost:8080/",
          "height": 472
        },
        "id": "mwRq7hr0RG37",
        "outputId": "043192e3-8bd3-441c-ca5b-cb201f134926"
      },
      "execution_count": 7,
      "outputs": [
        {
          "output_type": "display_data",
          "data": {
            "text/plain": [
              "<Figure size 640x480 with 1 Axes>"
            ],
            "image/png": "[encoded data removed]"
          },
          "metadata": {}
        }
      ]
    }
  ]
}